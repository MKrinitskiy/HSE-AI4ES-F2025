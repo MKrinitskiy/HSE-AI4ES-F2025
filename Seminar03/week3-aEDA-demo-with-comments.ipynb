{
 "cells": [
  {
   "cell_type": "markdown",
   "id": "1d951570",
   "metadata": {},
   "source": [
    "# Семинар 2: Многомерный анализ и выявление режимов в метеорологических данных (Jena Climate)\n",
    "\n",
    "Этот ноутбук — логическое продолжение базового EDA. Здесь выполняется:\n",
    "1) анализ избыточности и связей в многомерных данных,\n",
    "2) линейное понижение размерности (PCA/EOF),\n",
    "3) нелинейные проекции (t-SNE, UMAP),\n",
    "4) кластеризация режимов (KMeans),\n",
    "5) интерпретация результатов с точки зрения физики атмосферы.\n",
    "\n",
    "**Датасет:** Jena Climate (2009–2016). Если CSV-файл не найден, будет создан небольшой синтетический набор с такой же структурой.\n"
   ]
  },
  {
   "cell_type": "markdown",
   "id": "9f5ca42b",
   "metadata": {},
   "source": [
    "## Подготовка среды и загрузка данных\n",
    "\n",
    "**Задание (к прочтению):**\n",
    "- Указать путь к CSV-файлу Jena (если есть) или оставить по умолчанию.\n",
    "- Выполнить ячейку и проверить: число строк/столбцов, временной охват.\n"
   ]
  },
  {
   "cell_type": "code",
   "execution_count": null,
   "id": "d651e8ec",
   "metadata": {},
   "outputs": [],
   "source": [
    "import os\n",
    "import numpy as np\n",
    "import pandas as pd\n",
    "import matplotlib.pyplot as plt\n",
    "\n",
    "from sklearn.preprocessing import StandardScaler\n",
    "from sklearn.decomposition import PCA\n",
    "from sklearn.cluster import KMeans"
   ]
  },
  {
   "cell_type": "code",
   "execution_count": null,
   "id": "8418c635",
   "metadata": {},
   "outputs": [],
   "source": [
    "try:\n",
    "    from sklearn.manifold import TSNE\n",
    "    TSNE_AVAILABLE = True\n",
    "except Exception:\n",
    "    TSNE_AVAILABLE = False"
   ]
  },
  {
   "cell_type": "code",
   "execution_count": null,
   "id": "d25888d8",
   "metadata": {},
   "outputs": [],
   "source": [
    "# UMAP (опционально)\n",
    "try:\n",
    "    import umap.umap_ as umap\n",
    "    UMAP_AVAILABLE = True\n",
    "except Exception:\n",
    "    UMAP_AVAILABLE = False"
   ]
  },
  {
   "cell_type": "code",
   "execution_count": null,
   "id": "0dcf15d8",
   "metadata": {},
   "outputs": [],
   "source": [
    "# Для показа таблиц (если поддерживается средой)\n",
    "try:\n",
    "    from caas_jupyter_tools import display_dataframe_to_user\n",
    "except Exception:\n",
    "    display_dataframe_to_user = None"
   ]
  },
  {
   "cell_type": "code",
   "execution_count": null,
   "id": "f665d0aa",
   "metadata": {},
   "outputs": [],
   "source": [
    "DATA_PATH = \"/mnt/data/jena_climate_2009_2016.csv\"  # при необходимости измените путь"
   ]
  },
  {
   "cell_type": "code",
   "execution_count": null,
   "id": "a5ca0b82",
   "metadata": {},
   "outputs": [],
   "source": [
    "def load_or_mock_jena(path: str) -> pd.DataFrame:\n",
    "    cols = [\n",
    "        \"Date Time\",\"p (mbar)\",\"T (degC)\",\"Tpot (K)\",\"Tdew (degC)\",\"rh (%)\",\n",
    "        \"VPmax (mbar)\",\"VPact (mbar)\",\"VPdef (mbar)\",\"sh (g/kg)\",\"H2OC (mmol/mol)\",\n",
    "        \"rho (g/m**3)\",\"wv (m/s)\",\"max. wv (m/s)\",\"wd (deg)\"\n",
    "    ]\n",
    "    if os.path.exists(path):\n",
    "        df = pd.read_csv(path)\n",
    "        miss = [c for c in cols if c not in df.columns]\n",
    "        if miss:\n",
    "            raise ValueError(f\"Отсутствуют ожидаемые столбцы: {miss}\")\n",
    "    df[\"Date Time\"] = pd.to_datetime(df[\"Date Time\"])\n",
    "    return df.sort_values(\"Date Time\").set_index(\"Date Time\")"
   ]
  },
  {
   "cell_type": "code",
   "execution_count": null,
   "id": "1e0cceb7",
   "metadata": {},
   "outputs": [],
   "source": [
    "df = load_or_mock_jena(DATA_PATH)"
   ]
  },
  {
   "cell_type": "code",
   "execution_count": null,
   "id": "5a8f76bf",
   "metadata": {},
   "outputs": [],
   "source": [
    "# числовые признаки и часовые средние (ускоряет дальнейшие шаги)\n",
    "num_df = df.select_dtypes(include=[np.number])\n",
    "num_df_hr = num_df.resample(\"1H\").mean().dropna(how=\"any\")"
   ]
  },
  {
   "cell_type": "code",
   "execution_count": null,
   "id": "0fc0bb86",
   "metadata": {},
   "outputs": [],
   "source": [
    "print(\"Размер исходных данных:\", df.shape)\n",
    "print(\"Размер часовых средних:\", num_df_hr.shape)"
   ]
  },
  {
   "cell_type": "markdown",
   "id": "8ba7fd9f",
   "metadata": {},
   "source": [
    "## Этап 1. Избыточность и взаимосвязи в многомерных данных\n",
    "\n",
    "**Задание.**  \n",
    "1. Вычислить корреляционную матрицу по числовым переменным (часовые средние).  \n",
    "2. Построить тепловую карту корреляций.  \n",
    "3. Построить *scatter matrix* по подмножеству переменных (`T (degC)`, `rh (%)`, `p (mbar)`, `wv (m/s)`).  \n",
    "4. Сделать краткие наблюдения о сильных/слабых связях (для обсуждения устно).\n"
   ]
  },
  {
   "cell_type": "code",
   "execution_count": null,
   "id": "e3da01c0",
   "metadata": {},
   "outputs": [],
   "source": [
    "# Корреляции\n",
    "corr = num_df_hr.corr()"
   ]
  },
  {
   "cell_type": "code",
   "execution_count": null,
   "id": "c69752a4",
   "metadata": {},
   "outputs": [],
   "source": [
    "plt.figure(figsize=(8, 6))\n",
    "im = plt.imshow(corr.values, aspect=\"auto\")\n",
    "plt.colorbar(im, fraction=0.046, pad=0.04)\n",
    "plt.xticks(range(len(corr.columns)), corr.columns, rotation=90)\n",
    "plt.yticks(range(len(corr.index)), corr.index)\n",
    "plt.title(\"Корреляционная матрица (часовые средние)\")\n",
    "plt.tight_layout()\n",
    "plt.show()"
   ]
  },
  {
   "cell_type": "code",
   "execution_count": null,
   "id": "5b423712",
   "metadata": {},
   "outputs": [],
   "source": [
    "# Scatter matrix (подмножество)\n",
    "from pandas.plotting import scatter_matrix"
   ]
  },
  {
   "cell_type": "code",
   "execution_count": null,
   "id": "659ca011",
   "metadata": {},
   "outputs": [],
   "source": [
    "subset_cols = [c for c in [\"T (degC)\", \"rh (%)\", \"p (mbar)\", \"wv (m/s)\"] if c in num_df_hr.columns]"
   ]
  },
  {
   "cell_type": "code",
   "execution_count": null,
   "id": "c217ecfc",
   "metadata": {},
   "outputs": [],
   "source": [
    "if len(subset_cols) >= 2:\n",
    "    smpl = num_df_hr[subset_cols].dropna().sample(min(2000, len(num_df_hr)), random_state=42)\n",
    "    scatter_matrix(smpl, figsize=(7, 7), diagonal='hist')\n",
    "    plt.suptitle(\"Scatter Matrix (подвыборка часовых средних)\")\n",
    "    plt.tight_layout()\n",
    "    plt.show()\n",
    "else:\n",
    "    print(\"Недостаточно колонок для scatter matrix.\")"
   ]
  },
  {
   "cell_type": "markdown",
   "id": "11f03e0f",
   "metadata": {},
   "source": [
    "## Этап 2. PCA / EOF-анализ (линейное понижение размерности)\n",
    "\n",
    "**Задание.**  \n",
    "1. Стандартизировать признаки.  \n",
    "2. Выполнить PCA и вывести доли объяснённой дисперсии (scree-plot).  \n",
    "3. Построить проекцию на первые две главные компоненты.  \n",
    "4. Обсудить (устно), какие переменные доминируют в PC1/PC2 (через `pca.components_`).\n"
   ]
  },
  {
   "cell_type": "code",
   "execution_count": null,
   "id": "1365b7d7",
   "metadata": {},
   "outputs": [],
   "source": [
    "from sklearn.preprocessing import StandardScaler\n",
    "from sklearn.decomposition import PCA"
   ]
  },
  {
   "cell_type": "code",
   "execution_count": null,
   "id": "30b01d81",
   "metadata": {},
   "outputs": [],
   "source": [
    "# Стандартизация и PCA\n",
    "scaler = StandardScaler()\n",
    "X = scaler.fit_transform(num_df_hr.values)"
   ]
  },
  {
   "cell_type": "code",
   "execution_count": null,
   "id": "d2e7e72d",
   "metadata": {},
   "outputs": [],
   "source": [
    "pca = PCA(n_components=6, random_state=42)\n",
    "X_pca = pca.fit_transform(X)"
   ]
  },
  {
   "cell_type": "code",
   "execution_count": null,
   "id": "973bd973",
   "metadata": {},
   "outputs": [],
   "source": [
    "# Scree-plot\n",
    "plt.figure(figsize=(6, 3.5))\n",
    "plt.plot(range(1, len(pca.explained_variance_ratio_) + 1),\n",
    "         pca.explained_variance_ratio_, marker='o')\n",
    "plt.title(\"PCA: доля объяснённой дисперсии по компонентам\")\n",
    "plt.xlabel(\"Компонента\")\n",
    "plt.ylabel(\"Доля дисперсии\")\n",
    "plt.tight_layout()\n",
    "plt.show()"
   ]
  },
  {
   "cell_type": "code",
   "execution_count": null,
   "id": "6ccaf617",
   "metadata": {},
   "outputs": [],
   "source": [
    "# Проекция PC1-PC2\n",
    "plt.figure(figsize=(5, 4.5))\n",
    "plt.scatter(X_pca[:, 0], X_pca[:, 1], s=8, alpha=0.5)\n",
    "plt.title(\"PCA: проекция на 2 компоненты\")\n",
    "plt.xlabel(\"PC1\")\n",
    "plt.ylabel(\"PC2\")\n",
    "plt.tight_layout()\n",
    "plt.show()"
   ]
  },
  {
   "cell_type": "code",
   "execution_count": null,
   "id": "f9ddf823",
   "metadata": {},
   "outputs": [],
   "source": [
    "# Вклады признаков в компоненты\n",
    "loadings = pd.DataFrame(pca.components_.T, index=num_df_hr.columns, columns=[f\"PC{i+1}\" for i in range(pca.n_components_)])\n",
    "print(\"Загрузки признаков (loadings) в компоненты:\\n\", loadings.head(10))"
   ]
  },
  {
   "cell_type": "markdown",
   "id": "3045fd18",
   "metadata": {},
   "source": [
    "## Этап 3. Нелинейное понижение размерности (t-SNE, UMAP)\n",
    "\n",
    "**Задание.**  \n",
    "1. Выполнить t-SNE на подвыборке стандартизированных данных (для скорости).  \n",
    "2. При наличии `umap-learn` — выполнить UMAP на подвыборке.  \n",
    "3. Построить двумерные проекции; опционально — раскрасить точки по месяцу (`num_df_hr.index.month`).\n"
   ]
  },
  {
   "cell_type": "code",
   "execution_count": null,
   "id": "31259f44",
   "metadata": {},
   "outputs": [],
   "source": [
    "def try_tsne(X_scaled, max_points=1500, n_iter=500, perplexity=30, seed=42):\n",
    "    # Защита от отсутствия TSNE\n",
    "    try:\n",
    "        from sklearn.manifold import TSNE\n",
    "    except Exception:\n",
    "        print(\"t-SNE недоступен (нет sklearn.manifold.TSNE). Шаг пропущен.\")\n",
    "        return None\n",
    "    n = min(max_points, X_scaled.shape[0])\n",
    "    Xs = X_scaled[:n, :]\n",
    "    try:\n",
    "        tsne = TSNE(n_components=2, init='pca',\n",
    "                    perplexity=min(perplexity, max(5, n//10)), n_iter=n_iter, random_state=seed)\n",
    "        emb = tsne.fit_transform(Xs)\n",
    "        return emb\n",
    "    except Exception as e:\n",
    "        print(f\"t-SNE не выполнен ({type(e).__name__}: {e}). Шаг пропущен.\")\n",
    "        return None"
   ]
  },
  {
   "cell_type": "code",
   "execution_count": null,
   "id": "aee10af9",
   "metadata": {},
   "outputs": [],
   "source": [
    "# t-SNE\n",
    "X_tsne = try_tsne(X, max_points=800, n_iter=350)\n",
    "if X_tsne is not None:\n",
    "    plt.figure(figsize=(5, 4.5))\n",
    "    plt.scatter(X_tsne[:, 0], X_tsne[:, 1], s=8, alpha=0.6)\n",
    "    plt.title(\"t-SNE (2D) на подвыборке\")\n",
    "    plt.xlabel(\"t-SNE 1\")\n",
    "    plt.ylabel(\"t-SNE 2\")\n",
    "    plt.tight_layout()\n",
    "    plt.show()"
   ]
  },
  {
   "cell_type": "code",
   "execution_count": null,
   "id": "3f0d0f7d",
   "metadata": {},
   "outputs": [],
   "source": [
    "# UMAP (при наличии)\n",
    "try:\n",
    "    import umap.umap_ as umap\n",
    "    UMAP_AVAILABLE = True\n",
    "except Exception:\n",
    "    UMAP_AVAILABLE = False"
   ]
  },
  {
   "cell_type": "code",
   "execution_count": null,
   "id": "0f8d4d51",
   "metadata": {},
   "outputs": [],
   "source": [
    "if UMAP_AVAILABLE:\n",
    "    try:\n",
    "        reducer = umap.UMAP(n_neighbors=30, min_dist=0.1, n_components=2, random_state=42)\n",
    "        n = min(4000, X.shape[0])\n",
    "        X_umap = reducer.fit_transform(X[:n, :])\n",
    "        plt.figure(figsize=(5, 4.5))\n",
    "        plt.scatter(X_umap[:, 0], X_umap[:, 1], s=8, alpha=0.6)\n",
    "        plt.title(\"UMAP (2D) на подвыборке\")\n",
    "        plt.xlabel(\"UMAP 1\")\n",
    "        plt.ylabel(\"UMAP 2\")\n",
    "        plt.tight_layout()\n",
    "        plt.show()\n",
    "    except Exception as e:\n",
    "        print(f\"UMAP не выполнен ({type(e).__name__}: {e}). Шаг пропущен.\")\n",
    "else:\n",
    "    print(\"UMAP не установлен. Шаг пропущен.\")"
   ]
  },
  {
   "cell_type": "markdown",
   "id": "edbfab9a",
   "metadata": {},
   "source": [
    "## Этап 4. Кластеризация состояний (KMeans на PCA-пространстве)\n",
    "\n",
    "**Задание.**  \n",
    "1. Выполнить KMeans на первых 3 PC.  \n",
    "2. Визуализировать кластеры в плоскости PC1–PC2.  \n",
    "3. (Опционально) Попробовать разные `k` и обсудить изменение структуры.\n"
   ]
  },
  {
   "cell_type": "code",
   "execution_count": null,
   "id": "f2063ac3",
   "metadata": {},
   "outputs": [],
   "source": [
    "from sklearn.cluster import KMeans"
   ]
  },
  {
   "cell_type": "code",
   "execution_count": null,
   "id": "2ca345fb",
   "metadata": {},
   "outputs": [],
   "source": [
    "k = 5  # можно менять (3–6)\n",
    "kmeans = KMeans(n_clusters=k, n_init=10, random_state=42)\n",
    "labels = kmeans.fit_predict(X_pca[:, :3])"
   ]
  },
  {
   "cell_type": "code",
   "execution_count": null,
   "id": "7a8183f6",
   "metadata": {},
   "outputs": [],
   "source": [
    "plt.figure(figsize=(5.5, 5))\n",
    "plt.scatter(X_pca[:, 0], X_pca[:, 1], c=labels, s=8, alpha=0.6)\n",
    "plt.title(f\"KMeans на PC1–PC2 (k={k})\")\n",
    "plt.xlabel(\"PC1\")\n",
    "plt.ylabel(\"PC2\")\n",
    "plt.tight_layout()\n",
    "plt.show()"
   ]
  },
  {
   "cell_type": "markdown",
   "id": "8984bc2e",
   "metadata": {},
   "source": [
    "## Этап 5. Интерпретация кластеров и физический смысл\n",
    "\n",
    "**Задание.**  \n",
    "1. Вернуть метки кластеров к исходным часовым данным.  \n",
    "2. Посчитать средние профили переменных по кластерам.  \n",
    "3. Построить z-нормированные «параллельные профили» для нескольких ключевых переменных.  \n",
    "4. Сформулировать физическую интерпретацию кластеров (обсуждение устно).\n"
   ]
  },
  {
   "cell_type": "code",
   "execution_count": null,
   "id": "c2b7dd67",
   "metadata": {},
   "outputs": [],
   "source": [
    "clustered = num_df_hr.copy()\n",
    "clustered[\"cluster\"] = labels\n",
    "cluster_means = clustered.groupby(\"cluster\").mean()"
   ]
  },
  {
   "cell_type": "code",
   "execution_count": null,
   "id": "9f282df1",
   "metadata": {},
   "outputs": [],
   "source": [
    "print(\"\\nСредние профили переменных по кластерам:\\n\", cluster_means)\n",
    "if display_dataframe_to_user is not None:\n",
    "    try:\n",
    "        display_dataframe_to_user(\"Средние профили по кластерам\", cluster_means)\n",
    "    except Exception:\n",
    "        pass"
   ]
  },
  {
   "cell_type": "code",
   "execution_count": null,
   "id": "ee49a5b1",
   "metadata": {},
   "outputs": [],
   "source": [
    "plot_vars = [c for c in [\"T (degC)\", \"rh (%)\", \"p (mbar)\", \"wv (m/s)\", \"VPdef (mbar)\"] if c in cluster_means.columns]\n",
    "if len(plot_vars) >= 3:\n",
    "    cm = cluster_means[plot_vars]\n",
    "    cm_norm = (cm - cm.mean()) / cm.std(ddof=0)\n",
    "    x = np.arange(len(plot_vars))\n",
    "    plt.figure(figsize=(7, 4))\n",
    "    for idx in cm_norm.index:\n",
    "        plt.plot(x, cm_norm.loc[idx].values, marker='o', label=f\"cluster {idx}\")\n",
    "    plt.xticks(x, plot_vars)\n",
    "    plt.title(\"Средние профили (z-нормированные) по кластерам\")\n",
    "    plt.xlabel(\"Переменные\")\n",
    "    plt.ylabel(\"Z-нормированные значения\")\n",
    "    plt.tight_layout()\n",
    "    plt.show()\n",
    "else:\n",
    "    print(\"Недостаточно переменных для параллельных профилей.\")"
   ]
  }
 ],
 "metadata": {
  "kernelspec": {
   "display_name": "Python 3 (ipykernel)",
   "language": "python",
   "name": "python3"
  },
  "language_info": {
   "codemirror_mode": {
    "name": "ipython",
    "version": 3
   },
   "file_extension": ".py",
   "mimetype": "text/x-python",
   "name": "python",
   "nbconvert_exporter": "python",
   "pygments_lexer": "ipython3",
   "version": "3.8.11"
  }
 },
 "nbformat": 4,
 "nbformat_minor": 5
}
